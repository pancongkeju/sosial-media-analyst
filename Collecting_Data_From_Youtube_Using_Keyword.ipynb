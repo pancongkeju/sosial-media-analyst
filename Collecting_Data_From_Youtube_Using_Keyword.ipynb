{
  "nbformat": 4,
  "nbformat_minor": 0,
  "metadata": {
    "colab": {
      "provenance": [],
      "gpuType": "T4",
      "include_colab_link": true
    },
    "kernelspec": {
      "name": "python3",
      "display_name": "Python 3"
    },
    "language_info": {
      "name": "python"
    },
    "accelerator": "GPU"
  },
  "cells": [
    {
      "cell_type": "markdown",
      "metadata": {
        "id": "view-in-github",
        "colab_type": "text"
      },
      "source": [
        "<a href=\"https://colab.research.google.com/github/pancongkeju/sosial-media-analyst/blob/main/Collecting_Data_From_Youtube_Using_Keyword.ipynb\" target=\"_parent\"><img src=\"https://colab.research.google.com/assets/colab-badge.svg\" alt=\"Open In Colab\"/></a>"
      ]
    },
    {
      "cell_type": "code",
      "source": [
        "from google.colab import drive\n",
        "drive.mount('/content/drive')"
      ],
      "metadata": {
        "id": "ClDOhTx0_FWB"
      },
      "execution_count": null,
      "outputs": []
    },
    {
      "cell_type": "markdown",
      "source": [
        "1. Download List Video sesuai keyword"
      ],
      "metadata": {
        "id": "Cm-wrZzwww10"
      }
    },
    {
      "cell_type": "code",
      "source": [
        "import os\n",
        "from googleapiclient.discovery import build\n",
        "from datetime import datetime, timedelta\n",
        "import csv\n",
        "\n",
        "# Jika dijalankan di Google Colab, mount Google Drive:\n",
        "try:\n",
        "    from google.colab import drive\n",
        "    drive.mount('')\n",
        "    drive_path = ''  # ubah sesuai folder target Anda\n",
        "except ImportError:\n",
        "    # Jika bukan Colab, simpan di local folder\n",
        "    drive_path = os.getcwd()\n",
        "\n",
        "# -- KONFIGURASI API KEY --\n",
        "API_KEY = \"\"\n",
        "\n",
        "# Bangun client YouTube\n",
        "youtube = build(\"youtube\", \"v3\", developerKey=API_KEY)\n",
        "\n",
        "# Parameter pencarian\n",
        "QUERY = \"Mega Thrust Indonesia\"\n",
        "REGION = \"ID\"  # kode negara Indonesia\n",
        "MAX_RESULTS = 50  # batas maksimum per request\n",
        "\n",
        "# Fungsi bantu untuk dapatkan tanggal mulai bulan berikutnya\n",
        "def next_month(dt: datetime) -> datetime:\n",
        "    if dt.month == 12:\n",
        "        return datetime(dt.year + 1, 1, 1)\n",
        "    else:\n",
        "        return datetime(dt.year, dt.month + 1, 1)\n",
        "\n",
        "# Rentang total: 1 Jan 2024 sampai 30 Apr 2025\n",
        "start_date = datetime(2024, 1, 1)\n",
        "end_date = datetime(2025, 4, 30, 23, 59, 59)\n",
        "\n",
        "results = []\n",
        "\n",
        "current_after = start_date\n",
        "while current_after <= end_date:\n",
        "    current_before = next_month(current_after) - timedelta(seconds=1)\n",
        "    if current_before > end_date:\n",
        "        current_before = end_date\n",
        "\n",
        "    publishedAfter = current_after.strftime(\"%Y-%m-%dT%H:%M:%SZ\")\n",
        "    publishedBefore = current_before.strftime(\"%Y-%m-%dT%H:%M:%SZ\")\n",
        "\n",
        "    next_page_token = None\n",
        "    while True:\n",
        "        # Ambil satu halaman hasil pencarian, diurutkan berdasarkan tanggal\n",
        "        search_response = youtube.search().list(\n",
        "            part=\"snippet\",\n",
        "            q=QUERY,\n",
        "            type=\"video\",\n",
        "            regionCode=REGION,\n",
        "            publishedAfter=publishedAfter,\n",
        "            publishedBefore=publishedBefore,\n",
        "            order=\"date\",\n",
        "            maxResults=MAX_RESULTS,\n",
        "            pageToken=next_page_token\n",
        "        ).execute()\n",
        "\n",
        "        # Kumpulkan ID video untuk batch request statistik\n",
        "        video_ids = [item[\"id\"][\"videoId\"] for item in search_response.get(\"items\", [])]\n",
        "        if not video_ids:\n",
        "            break\n",
        "\n",
        "        stats_response = youtube.videos().list(\n",
        "            part=\"statistics\",\n",
        "            id=\",\".join(video_ids)\n",
        "        ).execute()\n",
        "\n",
        "        # Mapping videoId → commentCount\n",
        "        comment_counts = {\n",
        "            item[\"id\"]: int(item[\"statistics\"].get(\"commentCount\", 0))\n",
        "            for item in stats_response.get(\"items\", [])\n",
        "        }\n",
        "\n",
        "        # Tambahkan setiap video ke list hasil\n",
        "        for snippet in search_response.get(\"items\", []):\n",
        "            vid = snippet[\"id\"][\"videoId\"]\n",
        "            results.append({\n",
        "                \"channel\": snippet[\"snippet\"][\"channelTitle\"],\n",
        "                \"title\": snippet[\"snippet\"][\"title\"],\n",
        "                \"url\": f\"https://www.youtube.com/watch?v={vid}\",\n",
        "                \"publishedAt\": snippet[\"snippet\"][\"publishedAt\"][:10],\n",
        "                \"comments\": comment_counts.get(vid, 0)\n",
        "            })\n",
        "\n",
        "        next_page_token = search_response.get(\"nextPageToken\")\n",
        "        if not next_page_token:\n",
        "            break\n",
        "\n",
        "    current_after = next_month(current_after)\n",
        "\n",
        "# Simpan hasil ke CSV di Google Drive (atau local jika tidak di Colab)\n",
        "output_file = os.path.join(drive_path, \"youtube_results.csv\")\n",
        "with open(output_file, \"w\", newline=\"\", encoding=\"utf-8\") as csvfile:\n",
        "    fieldnames = [\"channel\", \"title\", \"url\", \"publishedAt\", \"comments\"]\n",
        "    writer = csv.DictWriter(csvfile, fieldnames=fieldnames)\n",
        "    writer.writeheader()\n",
        "    for vid in results:\n",
        "        writer.writerow(vid)\n",
        "\n",
        "print(f\"Hasil pencarian disimpan di {output_file}\")"
      ],
      "metadata": {
        "colab": {
          "base_uri": "https://localhost:8080/"
        },
        "id": "UbSB7v0hpE0v",
        "outputId": "d7bb770c-29c8-4d9b-9466-a3bf5eb94d10"
      },
      "execution_count": null,
      "outputs": [
        {
          "output_type": "stream",
          "name": "stdout",
          "text": [
            "Drive already mounted at /content/drive; to attempt to forcibly remount, call drive.mount(\"/content/drive\", force_remount=True).\n",
            "Hasil pencarian disimpan di /content/drive/MyDrive/megathrust4/youtube_results.csv\n"
          ]
        }
      ]
    },
    {
      "cell_type": "code",
      "source": [
        "import pandas as pd\n",
        "\n",
        "# 1. Baca file CSV (sesuaikan path jika perlu)\n",
        "# input_csv = '/content/drive/MyDrive/\n",
        "input_csv = '/content/drive/Myoutube_results_edit.csv'\n",
        "\n",
        "df = pd.read_csv(input_csv)\n",
        "\n",
        "# 2. Daftar channel yang ingin dipertahankan\n",
        "channels = [ \"CNN Indonesia\", 'METRO TV',]\n",
        "\n",
        "# 3. Filter: comments > 0\n",
        "df = df[df['comments'] > 0]\n",
        "\n",
        "# 4. Filter: hanya channel di dalam daftar\n",
        "df = df[df['channel'].isin(channels)]\n",
        "\n",
        "# 5. Filter: hanya channel yg tervalidasi\n",
        "df = df[df['keterangan'] == 1]\n",
        "\n",
        "# (Opsional) Simpan hasil ke CSV baru\n",
        "output_csv = '/content/drive/MyDrive/filtered_megathrust_youtube_results.csv'\n",
        "df.to_csv(output_csv, index=False)\n",
        "\n",
        "print(f\"Hasil filter disimpan di {output_csv}\")"
      ],
      "metadata": {
        "colab": {
          "base_uri": "https://localhost:8080/"
        },
        "id": "CTrr-KB6BqR-",
        "outputId": "fca5fe50-7958-4547-e984-11c91e5fdd38"
      },
      "execution_count": null,
      "outputs": [
        {
          "output_type": "stream",
          "name": "stdout",
          "text": [
            "Hasil filter disimpan di /content/drive/MyDrive/megathrust4/filtered_megathrust_youtube_results.csv\n"
          ]
        }
      ]
    },
    {
      "cell_type": "code",
      "source": [
        "# Jika pakai Colab: mount Google Drive\n",
        "from google.colab import drive\n",
        "drive.mount('/content/drive')\n",
        "\n",
        "import os\n",
        "import time\n",
        "import csv\n",
        "import pandas as pd\n",
        "from urllib.parse import urlparse, parse_qs\n",
        "from googleapiclient.discovery import build\n",
        "from googleapiclient.errors import HttpError\n",
        "\n",
        "API_KEY = \"\"\n",
        "\n",
        "# 2. Path ke CSV hasil filter\n",
        "input_csv = \"/content/drive/MyDrive/filtered_megathrust_youtube_results.csv\"\n",
        "df = pd.read_csv(input_csv)\n",
        "\n",
        "# 3. Fungsi ekstrak video_id dari URL\n",
        "def extract_video_id(url):\n",
        "    parsed = urlparse(url)\n",
        "    if \"youtu.be\" in parsed.netloc:\n",
        "        return parsed.path.lstrip(\"/\")\n",
        "    qs = parse_qs(parsed.query)\n",
        "    return qs.get(\"v\", [None])[0]\n",
        "\n",
        "# 4. Siapkan file output dan tulis header\n",
        "output_csv = \"/content/drive/MyDrive/all_comments.csv\"\n",
        "with open(output_csv, \"w\", newline=\"\", encoding=\"utf-8\") as fout:\n",
        "    writer = csv.writer(fout)\n",
        "    writer.writerow([\"url_video\", \"namachannel\", \"nama_user\", \"komen\", \"tanggal_komen\"])\n",
        "\n",
        "    # 5. Loop setiap video\n",
        "    for _, row in df.iterrows():\n",
        "        url = row[\"url\"]\n",
        "        channel = row[\"channel\"]\n",
        "        vid = extract_video_id(url)\n",
        "        if not vid:\n",
        "            print(f\"[SKIP] Gagal ekstrak video ID dari {url}\")\n",
        "            continue\n",
        "\n",
        "        print(f\"[FETCH] Comments for {vid}\")\n",
        "        page_token = None\n",
        "        backoff = 1\n",
        "\n",
        "        # 6. Paginate untuk seluruh top-level comments + replies\n",
        "        while True:\n",
        "            try:\n",
        "                req = youtube.commentThreads().list(\n",
        "                    part=\"snippet,replies\",\n",
        "                    videoId=vid,\n",
        "                    maxResults=100,\n",
        "                    textFormat=\"plainText\",\n",
        "                    pageToken=page_token\n",
        "                )\n",
        "                res = req.execute()\n",
        "\n",
        "                # 7. Tulis top-level comment\n",
        "                for item in res.get(\"items\", []):\n",
        "                    top = item[\"snippet\"][\"topLevelComment\"][\"snippet\"]\n",
        "                    writer.writerow([\n",
        "                        url,\n",
        "                        channel,\n",
        "                        top.get(\"authorDisplayName\", \"\"),\n",
        "                        top.get(\"textDisplay\", \"\").replace(\"\\n\", \" \"),\n",
        "                        top.get(\"publishedAt\", \"\")\n",
        "                    ])\n",
        "                    # 8. Tulis replies (jika ada)\n",
        "                    for reply in item.get(\"replies\", {}).get(\"comments\", []):\n",
        "                        r = reply[\"snippet\"]\n",
        "                        writer.writerow([\n",
        "                            url,\n",
        "                            channel,\n",
        "                            r.get(\"authorDisplayName\", \"\"),\n",
        "                            r.get(\"textDisplay\", \"\").replace(\"\\n\", \" \"),\n",
        "                            r.get(\"publishedAt\", \"\")\n",
        "                        ])\n",
        "\n",
        "                page_token = res.get(\"nextPageToken\")\n",
        "                backoff = 1  # reset backoff jika sukses\n",
        "                if not page_token:\n",
        "                    break\n",
        "\n",
        "                time.sleep(1)  # throttle antar halaman\n",
        "\n",
        "            except HttpError as e:\n",
        "                status = e.resp.status\n",
        "                if status in [403, 500, 503]:\n",
        "                    # quota atau server error: exponential backoff\n",
        "                    print(f\"[WARN] HTTP {status}, backoff {backoff}s\")\n",
        "                    time.sleep(backoff)\n",
        "                    backoff = min(backoff * 2, 60)\n",
        "                else:\n",
        "                    print(f\"[ERROR] HttpError {status} pada video {vid}: {e}\")\n",
        "                    break\n",
        "\n",
        "print(f\"Selesai! Semua komentar tersimpan di: {output_csv}\")"
      ],
      "metadata": {
        "colab": {
          "base_uri": "https://localhost:8080/"
        },
        "id": "_Lbef92FKqJo",
        "outputId": "ccc31b40-d7dd-4b72-f5a1-a6b2d8fa742a"
      },
      "execution_count": null,
      "outputs": [
        {
          "output_type": "stream",
          "name": "stdout",
          "text": [
            "Drive already mounted at /content/drive; to attempt to forcibly remount, call drive.mount(\"/content/drive\", force_remount=True).\n",
            "[FETCH] Comments for ENrp8zglxOI\n",
            "[FETCH] Comments for D_e2oRugqo8\n",
            "[FETCH] Comments for ReS0FIGo4go\n",
            "[FETCH] Comments for pM8BaoFPGwE\n",
            "[FETCH] Comments for jqnH6UZbJdg\n",
            "[FETCH] Comments for C9_z-QvO0EE\n",
            "[FETCH] Comments for TSj0xnn8vsc\n",
            "[FETCH] Comments for ufSjYoY7370\n",
            "[FETCH] Comments for UOkzlNwZSBM\n",
            "[FETCH] Comments for yPzE55ZdUJA\n",
            "[FETCH] Comments for WxGcURUVZz4\n",
            "[FETCH] Comments for dysgONJYxOk\n",
            "[FETCH] Comments for 6kXuwnSn0qg\n",
            "[FETCH] Comments for i2E6GaMitaY\n",
            "[FETCH] Comments for j4f4arSS_oU\n",
            "[FETCH] Comments for nOvXWyICm4Y\n",
            "Selesai! Semua komentar tersimpan di: /content/drive/MyDrive/megathrust4/all_comments.csv\n"
          ]
        }
      ]
    }
  ]
}